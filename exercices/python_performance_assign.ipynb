{
 "cells": [
  {
   "cell_type": "markdown",
   "id": "d542fb0f",
   "metadata": {},
   "source": [
    "<h1 align=\"center\">Python performance exercises</h1>"
   ]
  },
  {
   "cell_type": "markdown",
   "id": "81c8504d",
   "metadata": {},
   "source": [
    "## Python best practices exercises"
   ]
  },
  {
   "cell_type": "markdown",
   "id": "5738c93e",
   "metadata": {},
   "source": [
    "### Exercise 1\n",
    "\n",
    "considering the following function for concatenating list strings with deliter."
   ]
  },
  {
   "cell_type": "code",
   "execution_count": 2,
   "id": "1ae0d355",
   "metadata": {},
   "outputs": [],
   "source": [
    "def ft_concatenate(l_strings, d):\n",
    "    \"\"\"concatenate list of strings into one string separated by delimeter\"\"\"\n",
    "    res = l_strings[0]\n",
    "    for e in l_strings[1:]:\n",
    "        res = res + d + e\n",
    "    return res"
   ]
  },
  {
   "cell_type": "markdown",
   "id": "42ca5e59",
   "metadata": {},
   "source": [
    "- profile the function and identify the bottlenecks.\n",
    "- improve speed up of the function\n",
    "*Hint: you may need to look to the string functions in python documentation*"
   ]
  },
  {
   "cell_type": "code",
   "execution_count": 26,
   "id": "67eb363c",
   "metadata": {},
   "outputs": [
    {
     "name": "stdout",
     "output_type": "stream",
     "text": [
      "Hey, How, Are, You\n",
      "Hey, How, Are, You\n"
     ]
    }
   ],
   "source": [
    "l_strings = [\"Hey\",\"How\",\"Are\",\"You\"]\n",
    "d=\", \"\n",
    "print(ft_concatenate(l_strings,d))\n",
    "%reload_ext line_profiler\n",
    "%lprun -f ft_concatenate ft_concatenate(l_strings,d)\n",
    "#Bottlenecks : Boucle for\n",
    "def imp_concatenate(l_strings,d):\n",
    "    res = d.join(l_strings)\n",
    "    return res\n",
    "print(imp_concatenate(l_strings,d))\n",
    "%lprun -f imp_concatenate imp_concatenate(l_strings,d)"
   ]
  },
  {
   "cell_type": "raw",
   "id": "5c3af840",
   "metadata": {},
   "source": [
    "### Exercise 2\n",
    "\n",
    "In this exercise you will solve the following problem using two methods bruteforce mehode, and fast method.\n",
    "\n",
    "**Problem:** You are given a list of n integers, and your task is to calculate the number of distinct values in the list.\n",
    "\n",
    "**Example**\n",
    "- Input:\n",
    "5\n",
    "2 3 2 2 3\n",
    "\n",
    "- Output:\n",
    "3\n",
    "\n",
    "**Implement the following methodes:**\n",
    "\n",
    "1. **bruteforce mehode:** create an empty list and start adding items for the given list without adding the previous item add, at the end the result list will contain unique values, print lenght of the list and you are done. \n",
    "2. **fast method** think of using Set data structure.\n",
    "\n",
    "- time the two methods, what do you think?"
   ]
  },
  {
   "cell_type": "code",
   "execution_count": 33,
   "id": "afac9f46",
   "metadata": {},
   "outputs": [
    {
     "name": "stdout",
     "output_type": "stream",
     "text": [
      "3\n"
     ]
    }
   ],
   "source": [
    "# bruteforce method\n",
    "def brute_unique(l):\n",
    "    temp = []\n",
    "    for i in l:\n",
    "        if i not in temp:\n",
    "            temp.append(i)\n",
    "    return(len(temp))\n",
    "l = [5,2,3,2,2,3]\n",
    "print(brute_unique(l))"
   ]
  },
  {
   "cell_type": "code",
   "execution_count": 35,
   "id": "a72a05f1",
   "metadata": {},
   "outputs": [
    {
     "data": {
      "text/plain": [
       "3"
      ]
     },
     "execution_count": 35,
     "metadata": {},
     "output_type": "execute_result"
    }
   ],
   "source": [
    "# write fast method\n",
    "def fast_unique(l):\n",
    "    return(len(set(l)))\n",
    "fast_unique(l)"
   ]
  },
  {
   "cell_type": "code",
   "execution_count": 45,
   "id": "50d2abba",
   "metadata": {},
   "outputs": [
    {
     "name": "stdout",
     "output_type": "stream",
     "text": [
      "1.71 µs ± 50.1 ns per loop (mean ± std. dev. of 7 runs, 1000000 loops each)\n",
      "684 ns ± 9.92 ns per loop (mean ± std. dev. of 7 runs, 1000000 loops each)\n",
      "3.51 µs ± 126 ns per loop (mean ± std. dev. of 7 runs, 100000 loops each)\n",
      "957 ns ± 13.7 ns per loop (mean ± std. dev. of 7 runs, 1000000 loops each)\n"
     ]
    }
   ],
   "source": [
    "# Creat two random lists of numbers for testing\n",
    "t=[1,4,3,4,6,8,8,9,0,3,1,1,4,6]\n",
    "# time the two methods\n",
    "%timeit brute_unique(l)\n",
    "%timeit fast_unique(l)\n",
    "%timeit brute_unique(t)\n",
    "%timeit fast_unique(t)\n",
    "\n",
    "#Nous pouvons gagner beaucoup de temps en optimisant un programme. Ceci est remarquable lorsque nous avons beaucoup de données.\n"
   ]
  },
  {
   "cell_type": "markdown",
   "id": "45252a73",
   "metadata": {},
   "source": [
    "## Cython exercises"
   ]
  },
  {
   "cell_type": "markdown",
   "id": "1d49d72d",
   "metadata": {},
   "source": [
    "### Exercise 1"
   ]
  },
  {
   "cell_type": "markdown",
   "id": "dd93d998",
   "metadata": {},
   "source": [
    "1. load the cython extension."
   ]
  },
  {
   "cell_type": "code",
   "execution_count": 15,
   "id": "6dc3d19d",
   "metadata": {},
   "outputs": [],
   "source": [
    "%reload_ext cython"
   ]
  },
  {
   "cell_type": "markdown",
   "id": "32afcfb1",
   "metadata": {},
   "source": [
    "2. Condidering the following polynome function:"
   ]
  },
  {
   "cell_type": "code",
   "execution_count": 27,
   "id": "c8df3b42",
   "metadata": {},
   "outputs": [],
   "source": [
    "from time import time\n",
    "def poly(a,b):\n",
    "    return 10.5 * a + 3 * (b**2)"
   ]
  },
  {
   "cell_type": "markdown",
   "id": "896b8603",
   "metadata": {},
   "source": [
    "- Create an equivalent Cython function of `poly` with name `poly_cy` without any cython improvement, just make its cell a cython cell."
   ]
  },
  {
   "cell_type": "markdown",
   "id": "f316770a",
   "metadata": {},
   "source": [
    "\n"
   ]
  },
  {
   "cell_type": "markdown",
   "id": "e6d27029",
   "metadata": {},
   "source": [
    "3. time the performance of Python and Cython version of the function, what is the factor of speed up here between the two verions."
   ]
  },
  {
   "cell_type": "code",
   "execution_count": 18,
   "id": "fe8f8db6",
   "metadata": {},
   "outputs": [
    {
     "name": "stderr",
     "output_type": "stream",
     "text": [
      "\n",
      "Error compiling Cython file:\n",
      "------------------------------------------------------------\n",
      "...\n",
      "startC=time.time()\n",
      "#poly_cy(200,244)\n",
      "endC=time.time()\n",
      "print(endC-startC)\n",
      "\"\"\"\"\"\"\n",
      "^\n",
      "------------------------------------------------------------\n",
      "\n",
      "C:\\Users\\exe\\.ipython\\cython\\_cython_magic_9483644b4811d9fa368db9d2315a274b.pyx:17:0: Unexpected token None:'' in string literal\n"
     ]
    }
   ],
   "source": [
    "%%cython -a\n",
    "def poly_cy(a,b):\n",
    "    return 10.5 * a + 3 * (b**2)\n",
    "\n",
    "\n",
    "start1=time.time()\n",
    "poly(250,300)\n",
    "end1=time.time()\n",
    "print(end1-start1)\n",
    "\n",
    "start2=time.time()\n",
    "poly_cy(200,244)\n",
    "end2=time.time()\n",
    "print(end2-start2)"
   ]
  },
  {
   "cell_type": "markdown",
   "id": "acd2d107",
   "metadata": {},
   "source": [
    "4. Now lets work on another examples using loop.\n",
    "    - rewrite the same function below fib that calculate fibonacci series using cython, but now try to add type for the variables used inside it, add a prefix `_cy` to your new cython function."
   ]
  },
  {
   "cell_type": "code",
   "execution_count": 14,
   "id": "7f98313f",
   "metadata": {},
   "outputs": [],
   "source": [
    "def fib(n):\n",
    "    a, b = 1, 1\n",
    "    for i in range(n):\n",
    "        a, b = a + b, a\n",
    "\n",
    "    return a"
   ]
  },
  {
   "cell_type": "code",
   "execution_count": 15,
   "id": "2fe0b451",
   "metadata": {},
   "outputs": [],
   "source": [
    "%%cython -a\n",
    "\n",
    "def fib_cy(int n):\n",
    "    cdef int a=1\n",
    "    cdef int b=1\n",
    "    for i in range(n):\n",
    "        a, b = a + b, a\n",
    "    return a"
   ]
  },
  {
   "cell_type": "markdown",
   "id": "07197bc9",
   "metadata": {},
   "source": [
    "- time the two function for fibonacci series, with n = 20, what is the factor of speed now, What do you think?"
   ]
  },
  {
   "cell_type": "code",
   "execution_count": 16,
   "id": "225aca99",
   "metadata": {},
   "outputs": [],
   "source": [
    "print(fib(20))\n",
    "print(fib_cy(20))\n",
    "\n",
    "start1=time()\n",
    "fib(20)\n",
    "end1=time()\n",
    "print(end1-start1)\n",
    "\n",
    "start2=time()\n",
    "fib_cy(20)\n",
    "end2=time()\n",
    "print(endC2-startC2)"
   ]
  },
  {
   "cell_type": "markdown",
   "id": "12824052",
   "metadata": {},
   "source": [
    "5. Recursive functions are functions that call themselves during their execution. Another interesting property of the Fibonacci series is that it can be written as a recursive function. That’s because each item depends on the values of other items (namely item n-1 and item n-2)\n",
    "\n",
    "- Rewrite the fib function using recursion. Is it faster than the non-recursive version? Does Cythonizing it give even more of an advantage? "
   ]
  },
  {
   "cell_type": "code",
   "execution_count": 17,
   "id": "83dcc79b",
   "metadata": {},
   "outputs": [],
   "source": [
    "def recur_fib(n):\n",
    "    if n < 0:\n",
    "        print(\"L argument doit etre positif\")\n",
    "    elif n == 0:\n",
    "        return 0\n",
    "    elif n == 1 or n == 2:\n",
    "        return 1\n",
    "    else:\n",
    "        return recur_fib(n-1)+recur_fib(n-2)\n",
    "    \n",
    "\n",
    "start = time()\n",
    "recur_fib(20)\n",
    "end = time()\n",
    "print(end - start)"
   ]
  },
  {
   "cell_type": "code",
   "execution_count": null,
   "id": "acf50e8e",
   "metadata": {},
   "outputs": [],
   "source": [
    "%%cython -a\n",
    "\n",
    "def recur_fib_cy( int n):\n",
    "    if n < 0:\n",
    "        print(\"L argument doit etre positif\")\n",
    "    elif n == 0:\n",
    "        return 0\n",
    "    elif n == 1 or n == 2:\n",
    "        return 1\n",
    "    else:\n",
    "        return recur_fib_cy(n-1)+recur_fib_cy(n-2)\n",
    "    \n",
    "    \n",
    "start = time()\n",
    "recur_fib_cy(20)\n",
    "end = time()\n",
    "print(end - start)"
   ]
  },
  {
   "cell_type": "markdown",
   "id": "9a351334",
   "metadata": {},
   "source": [
    "### Exercise 2\n",
    "\n",
    "- Monte Carlo methods are a broad class of computational algorithms that rely on repeated random sampling to obtain numerical results. \n",
    "- One of the basic examples of getting started with the Monte Carlo algorithm is the estimation of Pi.\n",
    "\n",
    "**Estimation of Pi**\n",
    "\n",
    "- The idea is to simulate random (x, y) points in a 2-D plane with domain as a square of side 1 unit. \n",
    "- Imagine a circle inside the same domain with same diameter and inscribed into the square. \n",
    "- We then calculate the ratio of number points that lied inside the circle and total number of generated points. \n",
    "- Refer to the image below:\n",
    "\n",
    "![demo](../data/MonteCarloPlot.png)\n",
    "\n",
    "We know that area of the square is 1 unit sq while that of circle is $\\pi \\ast  (\\frac{1}{2})^{2} = \\frac{\\pi}{4}$. Now for a very large number of generated points,\n",
    "\n",
    "![demo](../data/MonteCarloCalc.png)\n",
    "\n",
    "\n",
    "## The Algorithm\n",
    "\n",
    "1. Initialize cile_points, square_points and interval to 0.\n",
    "2. Generate random point x.\n",
    "3. Generate random point y.\n",
    "4. Calculate d = x*x + y*y.\n",
    "5. If d <= 1, increment circle_points.\n",
    "6. Increment square_points.\n",
    "7. Increment interval.\n",
    "8. If increment < NO_OF_ITERATIONS, repeat from 2.\n",
    "9. Calculate pi = 4*(circle_points/square_points).\n",
    "10. Terminate."
   ]
  },
  {
   "cell_type": "markdown",
   "id": "0541587d",
   "metadata": {},
   "source": [
    "**Your mission:** time the function `monte_carlo_pi`, identify the bottlenecks and create a new version using cython functionality to speed up monte carlo simulation for PI, use 100,000 points and compare the speed up factor between python and cython, considering the following optimizations:\n",
    "- add type for variables used.\n",
    "- add type for the function\n",
    "- use c rand function instead of python rand function.\n",
    " \n",
    "*Hint: you can import function from C libraries using the following approach `from libc.<name of c library> cimport <library function name>`, replace the holders `<>` with the right identities for the current problem*"
   ]
  },
  {
   "cell_type": "code",
   "execution_count": 29,
   "id": "7463a854",
   "metadata": {},
   "outputs": [
    {
     "name": "stdout",
     "output_type": "stream",
     "text": [
      "1.0948848724365234\n"
     ]
    }
   ],
   "source": [
    "import random\n",
    "def monte_carlo_pi(nsamples):\n",
    "    pi = 0.\n",
    "    circle_points = 0\n",
    "    square_points = nsamples\n",
    "    for i in range(nsamples ):\n",
    "        a = random.random() \n",
    "        b = random.random()\n",
    "        x = -1 + 2 * a \n",
    "        y = -1 + 2 * b\n",
    "        pi = x**2 + y**2\n",
    "        if pi <= 1:\n",
    "            circle_points+=1\n",
    "        pi = 4*(circle_points/square_points)\n",
    "    return pi\n",
    "start = time()\n",
    "pi = monte_carlo_pi(1000000)\n",
    "end = time()\n",
    "print(end-start)"
   ]
  },
  {
   "cell_type": "code",
   "execution_count": null,
   "id": "4b6e0011",
   "metadata": {},
   "outputs": [],
   "source": [
    "%%cython\n",
    "from time import time\n",
    "from libc.stdlib cimport rand\n",
    "cdef extern from \"limits.h\":\n",
    "    int INT_MAX\n",
    "def monte_carlo_pi_cy(int nsamples):\n",
    "    cdef int pi = 0\n",
    "    cdef int circle_points = 0\n",
    "    cdef int square_points = nsamples\n",
    "    cdef float a,b,x,y\n",
    "    for i in range(nsamples ):\n",
    "        a = rand()/float(INT_MAX)\n",
    "        b = rand()/float(INT_MAX)\n",
    "        x = -1 + 2 * a \n",
    "        y = -1 + 2 * b \n",
    "        pi = x**2 + y**2\n",
    "        if pi <= 1:\n",
    "            circle_points+=1\n",
    "        pi = 4*(circle_points/square_points)\n",
    "    return pi\n",
    "start = time()\n",
    "pi = monte_carlo_pi_cy(1000000)\n",
    "end = time()\n",
    "print(end-start)"
   ]
  },
  {
   "cell_type": "markdown",
   "id": "f8329153",
   "metadata": {},
   "source": [
    "## Numba exercises"
   ]
  },
  {
   "cell_type": "markdown",
   "id": "e9d51d21",
   "metadata": {},
   "source": [
    "### Exercise 1\n",
    "\n",
    "Previously we considered how to approximateby Monte Carlo.\n",
    "\n",
    "- Use the same idea here, but make the code efficient using Numba.\n",
    "- Compare speed with and without Numba when the sample size is large."
   ]
  },
  {
   "cell_type": "code",
   "execution_count": null,
   "id": "21f5de91",
   "metadata": {},
   "outputs": [],
   "source": [
    "# Your code here"
   ]
  },
  {
   "cell_type": "markdown",
   "id": "8645e084",
   "metadata": {},
   "source": [
    "### Exercise 2\n",
    "\n",
    "In the [Introduction to Quantitative Economics](https://python.quantecon.org/intro.html) with Python lecture series you can learn all about finite-state Markov chains.\n",
    "\n",
    "For now, let's just concentrate on simulating a very simple example of such a chain.\n",
    "\n",
    "Suppose that the volatility of returns on an asset can be in one of two regimes — high or low.\n",
    "\n",
    "The transition probabilities across states are as follows ![markov](../data/markov.png)\n",
    "\n",
    "For example, let the period length be one day, and suppose the current state is high.\n",
    "\n",
    "We see from the graph that the state tomorrow will be\n",
    "\n",
    "- high with probability 0.8\n",
    "\n",
    "- low with probability 0.2\n",
    "\n",
    "Your task is to simulate a sequence of daily volatility states according to this rule.\n",
    "\n",
    "Set the length of the sequence to `n = 1_000_000` and start in the high state.\n",
    "\n",
    "Implement a pure Python version and a Numba version, and compare speeds.\n",
    "\n",
    "To test your code, evaluate the fraction of time that the chain spends in the low state.\n",
    "\n",
    "If your code is correct, it should be about 2/3.\n",
    "\n",
    "Hints:\n",
    "\n",
    "- Represent the low state as 0 and the high state as 1.\n",
    "\n",
    "- If you want to store integers in a NumPy array and then apply JIT compilation, use `x = np.empty(n, dtype=np.int_)`.\n"
   ]
  },
  {
   "cell_type": "markdown",
   "id": "710ab47c",
   "metadata": {},
   "source": [
    "## Additionnal exercice"
   ]
  },
  {
   "cell_type": "markdown",
   "id": "5d08eb8d",
   "metadata": {},
   "source": []
  }
 ],
 "metadata": {
  "hide_input": false,
  "kernelspec": {
   "display_name": "Python 3 (ipykernel)",
   "language": "python",
   "name": "python3"
  },
  "language_info": {
   "codemirror_mode": {
    "name": "ipython",
    "version": 3
   },
   "file_extension": ".py",
   "mimetype": "text/x-python",
   "name": "python",
   "nbconvert_exporter": "python",
   "pygments_lexer": "ipython3",
   "version": "3.9.7"
  }
 },
 "nbformat": 4,
 "nbformat_minor": 5
}
